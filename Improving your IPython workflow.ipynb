{
 "cells": [
  {
   "cell_type": "markdown",
   "metadata": {},
   "source": [
    "#Improving your IPython workflow"
   ]
  },
  {
   "cell_type": "markdown",
   "metadata": {},
   "source": [
    "## Keyboard input modes\n",
    "\n",
    "`Ctrl-m` or `Esc` : Enable **Command mode**. Binds the keyboard to notebook level actions and is indicated by a grey cell border.\n",
    "\n",
    "`Enter` : Enable **Edit Mode**. Allows you to type code/text into a cell and is indicated by a green cell border. "
   ]
  },
  {
   "cell_type": "markdown",
   "metadata": {},
   "source": [
    "---\n",
    "## Command mode "
   ]
  },
  {
   "cell_type": "markdown",
   "metadata": {},
   "source": [
    "### Cell manipulation\n",
    "\n",
    "#### Create/Cut/Copy/Paste/Delete/Merge\n",
    "\n",
    "- `a` or `b` : create (above/below)\n",
    "- `x` : cut\n",
    "- `c` : copy\n",
    "- `v` : paste\n",
    "- `dd` : delete\n",
    "- `z` : undo delete *(Warning, can only undo once)*\n",
    "- `Shift + m` : merge cell below\n",
    "\n",
    "#### Switching cell type\n",
    "- `m` : Markdown\n",
    "- `y` : Code\n",
    "- `r` : Raw"
   ]
  },
  {
   "cell_type": "markdown",
   "metadata": {},
   "source": [
    "### Cell navigation\n",
    "- `k` or `arrow up` : move up \n",
    "- `j` or `arrow down` : move down"
   ]
  },
  {
   "cell_type": "markdown",
   "metadata": {},
   "source": [
    "### Running cells\n",
    "- `Shift + Enter` : run cell, select below\n",
    "- `Ctrl + Enter` : run cell\n",
    "- `Alt + Enter` : run cell, insert new cell below"
   ]
  },
  {
   "cell_type": "markdown",
   "metadata": {},
   "source": [
    "### Markdown\n",
    "- `1` : to heading 1\n",
    "- `2` : to heading 2\n",
    "- `3` : to heading 3\n",
    "- `4` : to heading 4\n",
    "- `5` : to heading 5\n",
    "- `6` : to heading 6"
   ]
  },
  {
   "cell_type": "markdown",
   "metadata": {},
   "source": [
    "### Other useful commands\n",
    "- `s` : save notebook\n",
    "- `l` : toggle line numbers *(only works on 'code cells')*\n",
    "- `h` : help"
   ]
  },
  {
   "cell_type": "markdown",
   "metadata": {},
   "source": [
    "---\n",
    "## Edit mode"
   ]
  },
  {
   "cell_type": "markdown",
   "metadata": {},
   "source": [
    "### Code completion & tool tip\n",
    "\n",
    "- `Tab` : code completion\n",
    "- `Shift + tab` : tool tip"
   ]
  },
  {
   "cell_type": "code",
   "execution_count": null,
   "metadata": {
    "collapsed": true
   },
   "outputs": [],
   "source": [
    "# Example\n",
    "import numpy as np"
   ]
  },
  {
   "cell_type": "markdown",
   "metadata": {},
   "source": [
    "---\n",
    "## Miscellaneous"
   ]
  },
  {
   "cell_type": "markdown",
   "metadata": {},
   "source": [
    "## Usefull links:\n",
    "- [Mastering Markdown by GitHub](https://guides.github.com/features/mastering-markdown/)\n",
    "- [Official Markdown doc](http://daringfireball.net/projects/markdown/)\n",
    "- [IPython configuration system](https://ipython.org/ipython-doc/1/config/overview.html)\n",
    "\n",
    "## Usefull commands (CLI):\n",
    "```\n",
    "ipython notebook --notebook-dir=\"/Users/john/my-notebooks/\" #launches IPython notebook at given directory\n",
    "ipython notebook --help-all #shows all commandline args\n",
    "```"
   ]
  }
 ],
 "metadata": {
  "kernelspec": {
   "display_name": "Python 3",
   "language": "python",
   "name": "python3"
  },
  "language_info": {
   "codemirror_mode": {
    "name": "ipython",
    "version": 3
   },
   "file_extension": ".py",
   "mimetype": "text/x-python",
   "name": "python",
   "nbconvert_exporter": "python",
   "pygments_lexer": "ipython3",
   "version": "3.4.3"
  }
 },
 "nbformat": 4,
 "nbformat_minor": 0
}
